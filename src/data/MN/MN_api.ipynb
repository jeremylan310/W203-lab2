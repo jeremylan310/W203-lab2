{
 "cells": [
  {
   "cell_type": "code",
   "execution_count": 52,
   "metadata": {},
   "outputs": [],
   "source": [
    "import requests\n",
    "import json\n",
    "import csv"
   ]
  },
  {
   "cell_type": "code",
   "execution_count": 42,
   "metadata": {},
   "outputs": [],
   "source": [
    "def get_url(layerDefs, returnIdsOnly = False):\n",
    "    '''\n",
    "        Function to get query url for rest api\n",
    "    '''\n",
    "    return f'https://arcgis.metc.state.mn.us/server/rest/services/EnterpriseLibrary/TransitStops/FeatureServer/query?layerDefs={layerDefs}&returnIdsOnly={str(returnIdsOnly).lower()}&f=json'"
   ]
  },
  {
   "cell_type": "code",
   "execution_count": 66,
   "metadata": {},
   "outputs": [
    {
     "data": {
      "text/plain": [
       "20874"
      ]
     },
     "execution_count": 66,
     "metadata": {},
     "output_type": "execute_result"
    }
   ],
   "source": [
    "# Get all object ids at this endpoint\n",
    "layerDefs = '{\"0\":\"OBJECTID>0\"}'\n",
    "response = json.loads(requests.post(get_url(layerDefs, returnIdsOnly=True)).text)\n",
    "objectIds = response['layers'][0]['objectIds']\n",
    "len(objectIds)"
   ]
  },
  {
   "cell_type": "code",
   "execution_count": 81,
   "metadata": {},
   "outputs": [],
   "source": [
    "# Iterate over 1500 objects at a time (max limit: 2000)\n",
    "stations = []\n",
    "for i in range(int(len(objectIds) / 1500 + 1)):\n",
    "    min = i * 1500\n",
    "    max = (i + 1) * 1500\n",
    "    layerDefs = '{\"0\":\"OBJECTID>' + str(min) + ' AND OBJECTID<' + str(max) + '\"}'\n",
    "    object_dict = json.loads(requests.post(get_url(layerDefs, returnIdsOnly=False)).text)\n",
    "    stations.extend([s['attributes'] for s in object_dict['layers'][0]['features']])"
   ]
  },
  {
   "cell_type": "code",
   "execution_count": 82,
   "metadata": {},
   "outputs": [],
   "source": [
    "# Get columns\n",
    "columns = {k for s in stations for k, v in s.items()}"
   ]
  },
  {
   "cell_type": "code",
   "execution_count": 83,
   "metadata": {},
   "outputs": [],
   "source": [
    "# Save as CSV\n",
    "with open('MN_station_metadata.csv', 'w', newline='') as csvfile:\n",
    "    csvwriter = csv.writer(csvfile)\n",
    "    csvwriter.writerow(columns)\n",
    "    for station in stations:\n",
    "        csvwriter.writerow([station[c] for c in columns])"
   ]
  },
  {
   "cell_type": "code",
   "execution_count": null,
   "metadata": {},
   "outputs": [],
   "source": []
  }
 ],
 "metadata": {
  "interpreter": {
   "hash": "7664f7146e5543c9da7c5d14b285421dcfc6a49ab17ef09535ab38bc0e7d5d9b"
  },
  "kernelspec": {
   "display_name": "Python 3.8.8 ('base')",
   "language": "python",
   "name": "python3"
  },
  "language_info": {
   "codemirror_mode": {
    "name": "ipython",
    "version": 3
   },
   "file_extension": ".py",
   "mimetype": "text/x-python",
   "name": "python",
   "nbconvert_exporter": "python",
   "pygments_lexer": "ipython3",
   "version": "3.8.8"
  },
  "orig_nbformat": 4
 },
 "nbformat": 4,
 "nbformat_minor": 2
}
